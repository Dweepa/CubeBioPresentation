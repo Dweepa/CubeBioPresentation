{
  "nbformat": 4,
  "nbformat_minor": 0,
  "metadata": {
    "colab": {
      "name": "Siamese RNN.ipynb",
      "version": "0.3.2",
      "provenance": [],
      "collapsed_sections": [],
      "toc_visible": true
    },
    "language_info": {
      "codemirror_mode": {
        "name": "ipython",
        "version": 3
      },
      "file_extension": ".py",
      "mimetype": "text/x-python",
      "name": "python",
      "nbconvert_exporter": "python",
      "pygments_lexer": "ipython3",
      "version": "3.6.8"
    },
    "kernelspec": {
      "name": "python3",
      "display_name": "Python 3"
    },
    "accelerator": "GPU"
  },
  "cells": [
    {
      "cell_type": "code",
      "metadata": {
        "id": "3l1zx9SRWcEm",
        "colab_type": "code",
        "outputId": "2767470a-5b18-4f59-8a76-d47c36a75007",
        "colab": {
          "base_uri": "https://localhost:8080/",
          "height": 74
        }
      },
      "source": [
        "# Run this cell to mount your Google Drive.\n",
        "from google.colab import drive\n",
        "drive.mount('/content/drive')"
      ],
      "execution_count": 53,
      "outputs": [
        {
          "output_type": "stream",
          "text": [
            "Drive already mounted at /content/drive; to attempt to forcibly remount, call drive.mount(\"/content/drive\", force_remount=True).\n"
          ],
          "name": "stdout"
        }
      ]
    },
    {
      "cell_type": "code",
      "metadata": {
        "id": "HYqPaqhXWS95",
        "colab_type": "code",
        "colab": {}
      },
      "source": [
        "# Siamese network\n",
        "import numpy as np\n",
        "from sklearn.model_selection import train_test_split\n",
        "import tensorflow as tf\n",
        "from time import time\n",
        "from tensorflow.python.keras import backend as K\n",
        "from tensorflow.python.keras.layers import Layer\n",
        "from tensorflow.python.keras.preprocessing.sequence import pad_sequences\n",
        "import itertools\n",
        "from tensorflow.python.keras.models import Model, Sequential\n",
        "from tensorflow.python.keras.layers import Input, Embedding, Lambda,LSTM, GRU, Conv1D, Conv2D, GlobalMaxPool1D, Dense, Dropout"
      ],
      "execution_count": 0,
      "outputs": []
    },
    {
      "cell_type": "code",
      "metadata": {
        "id": "eJLbXsIOWS-H",
        "colab_type": "code",
        "colab": {}
      },
      "source": [
        "class ManDist(Layer):\n",
        "    \"\"\"\n",
        "    Keras Custom Layer that calculates Manhattan Distance.\n",
        "    \"\"\"\n",
        "\n",
        "    # initialize the layer, No need to include inputs parameter!\n",
        "    def __init__(self, **kwargs):\n",
        "        self.result = None\n",
        "        super(ManDist, self).__init__(**kwargs)\n",
        "\n",
        "    # input_shape will automatic collect input shapes to build layer\n",
        "    def build(self, input_shape):\n",
        "        super(ManDist, self).build(input_shape)\n",
        "\n",
        "    # This is where the layer's logic lives.\n",
        "    def call(self, x, **kwargs):\n",
        "        self.result = K.exp(-K.sum(K.abs(x[0] - x[1]), axis=1, keepdims=True))\n",
        "        return self.result\n",
        "\n",
        "    # return output shape\n",
        "    def compute_output_shape(self, input_shape):\n",
        "        return K.int_shape(self.result)"
      ],
      "execution_count": 0,
      "outputs": []
    },
    {
      "cell_type": "markdown",
      "metadata": {
        "id": "S50NJ2TcWS_R",
        "colab_type": "text"
      },
      "source": [
        "- https://machinelearningmastery.com/use-word-embedding-layers-deep-learning-keras/\n",
        "- https://stackoverflow.com/questions/53496095/keras-reports-typeerror-unsupported-operand-types-for-nonetype-and-int"
      ]
    },
    {
      "cell_type": "markdown",
      "metadata": {
        "id": "oD2k7N0QWS_2",
        "colab_type": "text"
      },
      "source": [
        "# With Embeddings"
      ]
    },
    {
      "cell_type": "code",
      "metadata": {
        "id": "0MZd14y0WS_2",
        "colab_type": "code",
        "outputId": "844bc45a-b08d-4a8c-d240-3aa6dec7d074",
        "colab": {
          "base_uri": "https://localhost:8080/",
          "height": 204
        }
      },
      "source": [
        "import pandas as pd\n",
        "train = pd.read_csv(\"/content/drive/My Drive/Siamese/train.csv\")\n",
        "train = train.dropna()\n",
        "train = train.drop(['id','qid1','qid2'],axis=1)\n",
        "train.head()"
      ],
      "execution_count": 56,
      "outputs": [
        {
          "output_type": "execute_result",
          "data": {
            "text/html": [
              "<div>\n",
              "<style scoped>\n",
              "    .dataframe tbody tr th:only-of-type {\n",
              "        vertical-align: middle;\n",
              "    }\n",
              "\n",
              "    .dataframe tbody tr th {\n",
              "        vertical-align: top;\n",
              "    }\n",
              "\n",
              "    .dataframe thead th {\n",
              "        text-align: right;\n",
              "    }\n",
              "</style>\n",
              "<table border=\"1\" class=\"dataframe\">\n",
              "  <thead>\n",
              "    <tr style=\"text-align: right;\">\n",
              "      <th></th>\n",
              "      <th>question1</th>\n",
              "      <th>question2</th>\n",
              "      <th>is_duplicate</th>\n",
              "    </tr>\n",
              "  </thead>\n",
              "  <tbody>\n",
              "    <tr>\n",
              "      <th>0</th>\n",
              "      <td>What is the step by step guide to invest in sh...</td>\n",
              "      <td>What is the step by step guide to invest in sh...</td>\n",
              "      <td>0</td>\n",
              "    </tr>\n",
              "    <tr>\n",
              "      <th>1</th>\n",
              "      <td>What is the story of Kohinoor (Koh-i-Noor) Dia...</td>\n",
              "      <td>What would happen if the Indian government sto...</td>\n",
              "      <td>0</td>\n",
              "    </tr>\n",
              "    <tr>\n",
              "      <th>2</th>\n",
              "      <td>How can I increase the speed of my internet co...</td>\n",
              "      <td>How can Internet speed be increased by hacking...</td>\n",
              "      <td>0</td>\n",
              "    </tr>\n",
              "    <tr>\n",
              "      <th>3</th>\n",
              "      <td>Why am I mentally very lonely? How can I solve...</td>\n",
              "      <td>Find the remainder when [math]23^{24}[/math] i...</td>\n",
              "      <td>0</td>\n",
              "    </tr>\n",
              "    <tr>\n",
              "      <th>4</th>\n",
              "      <td>Which one dissolve in water quikly sugar, salt...</td>\n",
              "      <td>Which fish would survive in salt water?</td>\n",
              "      <td>0</td>\n",
              "    </tr>\n",
              "  </tbody>\n",
              "</table>\n",
              "</div>"
            ],
            "text/plain": [
              "                                           question1  ... is_duplicate\n",
              "0  What is the step by step guide to invest in sh...  ...            0\n",
              "1  What is the story of Kohinoor (Koh-i-Noor) Dia...  ...            0\n",
              "2  How can I increase the speed of my internet co...  ...            0\n",
              "3  Why am I mentally very lonely? How can I solve...  ...            0\n",
              "4  Which one dissolve in water quikly sugar, salt...  ...            0\n",
              "\n",
              "[5 rows x 3 columns]"
            ]
          },
          "metadata": {
            "tags": []
          },
          "execution_count": 56
        }
      ]
    },
    {
      "cell_type": "code",
      "metadata": {
        "id": "zGW1ffTaWS_4",
        "colab_type": "code",
        "outputId": "9870d5fe-7899-4e61-eb36-463e349fe002",
        "colab": {
          "base_uri": "https://localhost:8080/",
          "height": 204
        }
      },
      "source": [
        "X_train, X_test, y_train, y_test = train_test_split(train.drop(['is_duplicate'],axis=1),train['is_duplicate'],test_size=0.2)\n",
        "X_test.head()"
      ],
      "execution_count": 57,
      "outputs": [
        {
          "output_type": "execute_result",
          "data": {
            "text/html": [
              "<div>\n",
              "<style scoped>\n",
              "    .dataframe tbody tr th:only-of-type {\n",
              "        vertical-align: middle;\n",
              "    }\n",
              "\n",
              "    .dataframe tbody tr th {\n",
              "        vertical-align: top;\n",
              "    }\n",
              "\n",
              "    .dataframe thead th {\n",
              "        text-align: right;\n",
              "    }\n",
              "</style>\n",
              "<table border=\"1\" class=\"dataframe\">\n",
              "  <thead>\n",
              "    <tr style=\"text-align: right;\">\n",
              "      <th></th>\n",
              "      <th>question1</th>\n",
              "      <th>question2</th>\n",
              "    </tr>\n",
              "  </thead>\n",
              "  <tbody>\n",
              "    <tr>\n",
              "      <th>321132</th>\n",
              "      <td>What is the best thing in your life?</td>\n",
              "      <td>What's the best thing to do in life?</td>\n",
              "    </tr>\n",
              "    <tr>\n",
              "      <th>319109</th>\n",
              "      <td>What are some tips on making it through the jo...</td>\n",
              "      <td>What are some tips on making it through the jo...</td>\n",
              "    </tr>\n",
              "    <tr>\n",
              "      <th>311738</th>\n",
              "      <td>What do you think about the rapist Donald Trump?</td>\n",
              "      <td>What do you think about Donald Trump in Septem...</td>\n",
              "    </tr>\n",
              "    <tr>\n",
              "      <th>139448</th>\n",
              "      <td>How do we change the system that gave us such ...</td>\n",
              "      <td>What will happen if I don't have 75% attendanc...</td>\n",
              "    </tr>\n",
              "    <tr>\n",
              "      <th>10475</th>\n",
              "      <td>Did Trump injure a teacher with punch to face ...</td>\n",
              "      <td>Did Trump punch his elementary teacher in the ...</td>\n",
              "    </tr>\n",
              "  </tbody>\n",
              "</table>\n",
              "</div>"
            ],
            "text/plain": [
              "                                                question1                                          question2\n",
              "321132               What is the best thing in your life?               What's the best thing to do in life?\n",
              "319109  What are some tips on making it through the jo...  What are some tips on making it through the jo...\n",
              "311738   What do you think about the rapist Donald Trump?  What do you think about Donald Trump in Septem...\n",
              "139448  How do we change the system that gave us such ...  What will happen if I don't have 75% attendanc...\n",
              "10475   Did Trump injure a teacher with punch to face ...  Did Trump punch his elementary teacher in the ..."
            ]
          },
          "metadata": {
            "tags": []
          },
          "execution_count": 57
        }
      ]
    },
    {
      "cell_type": "code",
      "metadata": {
        "id": "meI2mTRIWS_5",
        "colab_type": "code",
        "outputId": "5bc2a2e0-8a3f-4c00-dadf-07a3781adacf",
        "colab": {
          "base_uri": "https://localhost:8080/",
          "height": 34
        }
      },
      "source": [
        "max_length = max(train.question1.map(lambda x: len(x.split())).max(),train.question2.map(lambda x: len(x.split())).max())\n",
        "max_length"
      ],
      "execution_count": 58,
      "outputs": [
        {
          "output_type": "execute_result",
          "data": {
            "text/plain": [
              "237"
            ]
          },
          "metadata": {
            "tags": []
          },
          "execution_count": 58
        }
      ]
    },
    {
      "cell_type": "code",
      "metadata": {
        "id": "J5zbAiD9WTAG",
        "colab_type": "code",
        "colab": {}
      },
      "source": [
        "from keras.preprocessing.text import Tokenizer\n",
        "t = Tokenizer()\n",
        "t.fit_on_texts(train.question1)\n",
        "t.fit_on_texts(train.question2)\n",
        "vocab_size = len(t.word_index) + 1"
      ],
      "execution_count": 0,
      "outputs": []
    },
    {
      "cell_type": "code",
      "metadata": {
        "id": "56qXQV_5WTAH",
        "colab_type": "code",
        "outputId": "31481754-84be-423d-be4a-d4b66b1eab40",
        "colab": {
          "base_uri": "https://localhost:8080/",
          "height": 34
        }
      },
      "source": [
        "vocab_size"
      ],
      "execution_count": 60,
      "outputs": [
        {
          "output_type": "execute_result",
          "data": {
            "text/plain": [
              "95593"
            ]
          },
          "metadata": {
            "tags": []
          },
          "execution_count": 60
        }
      ]
    },
    {
      "cell_type": "code",
      "metadata": {
        "id": "XsHjwqvtWTAT",
        "colab_type": "code",
        "outputId": "90cbd2fa-274a-4c33-8994-a9268d6da7aa",
        "colab": {
          "base_uri": "https://localhost:8080/",
          "height": 51
        }
      },
      "source": [
        "encoded_docs_train_left = t.texts_to_sequences(X_train.question1)\n",
        "print(encoded_docs_train_left[0])\n",
        "encoded_docs_train_right = t.texts_to_sequences(X_train.question2)\n",
        "print(encoded_docs_train_right[0])"
      ],
      "execution_count": 61,
      "outputs": [
        {
          "output_type": "stream",
          "text": [
            "[36, 93, 458, 178, 128, 288, 8, 35]\n",
            "[3, 19, 380, 258, 1308, 8, 484, 128, 33, 1133, 36, 19, 178, 60, 8, 17, 658, 8, 35]\n"
          ],
          "name": "stdout"
        }
      ]
    },
    {
      "cell_type": "code",
      "metadata": {
        "id": "632k2e-zWTAU",
        "colab_type": "code",
        "outputId": "55646493-fddd-405e-d6e6-4aafb2cb4b65",
        "colab": {
          "base_uri": "https://localhost:8080/",
          "height": 51
        }
      },
      "source": [
        "encoded_docs_test_left = t.texts_to_sequences(X_test.question1)\n",
        "print(encoded_docs_test_left[0])\n",
        "encoded_docs_test_right = t.texts_to_sequences(X_test.question2)\n",
        "print(encoded_docs_test_right[0])"
      ],
      "execution_count": 62,
      "outputs": [
        {
          "output_type": "stream",
          "text": [
            "[2, 3, 1, 18, 158, 8, 34, 61]\n",
            "[75, 1, 18, 158, 7, 9, 8, 61]\n"
          ],
          "name": "stdout"
        }
      ]
    },
    {
      "cell_type": "code",
      "metadata": {
        "id": "5bDKJaHyWTAW",
        "colab_type": "code",
        "outputId": "0da4982a-c940-4fe2-ca6e-c54058314c80",
        "colab": {
          "base_uri": "https://localhost:8080/",
          "height": 51
        }
      },
      "source": [
        "padded_docs_train_left = pad_sequences(encoded_docs_train_left, maxlen=max_length, padding='post')\n",
        "print(padded_docs_train_left.shape)\n",
        "padded_docs_train_right = pad_sequences(encoded_docs_train_right, maxlen=max_length, padding='post')\n",
        "print(padded_docs_train_right.shape)"
      ],
      "execution_count": 63,
      "outputs": [
        {
          "output_type": "stream",
          "text": [
            "(323429, 237)\n",
            "(323429, 237)\n"
          ],
          "name": "stdout"
        }
      ]
    },
    {
      "cell_type": "code",
      "metadata": {
        "id": "euI8eaExWTAZ",
        "colab_type": "code",
        "outputId": "d2ba3535-a6cb-4b12-95d5-eda77496bec4",
        "colab": {
          "base_uri": "https://localhost:8080/",
          "height": 51
        }
      },
      "source": [
        "padded_docs_test_left = pad_sequences(encoded_docs_test_left, maxlen=max_length, padding='post')\n",
        "print(padded_docs_test_left.shape)\n",
        "padded_docs_test_right = pad_sequences(encoded_docs_test_right, maxlen=max_length, padding='post')\n",
        "print(padded_docs_test_right.shape)"
      ],
      "execution_count": 64,
      "outputs": [
        {
          "output_type": "stream",
          "text": [
            "(80858, 237)\n",
            "(80858, 237)\n"
          ],
          "name": "stdout"
        }
      ]
    },
    {
      "cell_type": "code",
      "metadata": {
        "id": "bDnq925bWTAc",
        "colab_type": "code",
        "outputId": "bac62c96-d1ef-4f57-c24c-0c8c6e202c4c",
        "colab": {
          "base_uri": "https://localhost:8080/",
          "height": 34
        }
      },
      "source": [
        "# load the whole embedding into memory\n",
        "embeddings_index = dict()\n",
        "f = open('/content/drive/My Drive/Siamese/glove.6B.50d.txt')\n",
        "for line in f:\n",
        "\tvalues = line.split()\n",
        "\tword = values[0]\n",
        "\tcoefs = np.asarray(values[1:], dtype='float32')\n",
        "\tembeddings_index[word] = coefs\n",
        "f.close()\n",
        "print('Loaded %s word vectors.' % len(embeddings_index))"
      ],
      "execution_count": 65,
      "outputs": [
        {
          "output_type": "stream",
          "text": [
            "Loaded 400000 word vectors.\n"
          ],
          "name": "stdout"
        }
      ]
    },
    {
      "cell_type": "code",
      "metadata": {
        "id": "9uIwjFFdWTAe",
        "colab_type": "code",
        "colab": {}
      },
      "source": [
        "# create a weight matrix for words in training docs\n",
        "embedding_matrix = np.zeros((vocab_size, 50))\n",
        "for word, i in t.word_index.items():\n",
        "\tembedding_vector = embeddings_index.get(word)\n",
        "\tif embedding_vector is not None:\n",
        "\t\tembedding_matrix[i] = embedding_vector"
      ],
      "execution_count": 0,
      "outputs": []
    },
    {
      "cell_type": "code",
      "metadata": {
        "id": "f_fwxl0EWTAg",
        "colab_type": "code",
        "colab": {
          "base_uri": "https://localhost:8080/",
          "height": 74
        },
        "outputId": "df23fdf5-2d2c-437f-e955-b4aad1fc8501"
      },
      "source": [
        "# Model variables\n",
        "gpus = 2\n",
        "batch_size = 1024 * gpus\n",
        "n_epoch = 20\n",
        "n_hidden = 50\n",
        "\n",
        "# Define the shared model\n",
        "x = Sequential()\n",
        "x.add(Embedding(vocab_size,50, weights=[embedding_matrix], input_length=4, trainable=False))\n",
        "x.add(LSTM(n_hidden))\n",
        "x.add(Dropout(0.7))\n",
        "shared_model = x"
      ],
      "execution_count": 72,
      "outputs": [
        {
          "output_type": "stream",
          "text": [
            "W0709 03:25:45.235687 140373054867328 nn_ops.py:4224] Large dropout rate: 0.7 (>0.5). In TensorFlow 2.x, dropout() uses dropout rate instead of keep_prob. Please ensure that this is intended.\n"
          ],
          "name": "stderr"
        }
      ]
    },
    {
      "cell_type": "code",
      "metadata": {
        "id": "kMTEuebFWTAh",
        "colab_type": "code",
        "colab": {}
      },
      "source": [
        "# The visible layer\n",
        "left_input = Input(shape=(max_length,), dtype='int32')\n",
        "right_input = Input(shape=(max_length,), dtype='int32')"
      ],
      "execution_count": 0,
      "outputs": []
    },
    {
      "cell_type": "code",
      "metadata": {
        "id": "41nvsgN_WTAt",
        "colab_type": "code",
        "colab": {
          "base_uri": "https://localhost:8080/",
          "height": 91
        },
        "outputId": "2c84c434-6544-420f-c5c9-b377d2a4f9ed"
      },
      "source": [
        "# Pack it all up into a Manhattan Distance model\n",
        "malstm_distance = ManDist()([shared_model(left_input), shared_model(right_input)])\n",
        "model = Model(inputs=[left_input, right_input], outputs=[malstm_distance])"
      ],
      "execution_count": 74,
      "outputs": [
        {
          "output_type": "stream",
          "text": [
            "W0709 03:25:45.453423 140373054867328 nn_ops.py:4224] Large dropout rate: 0.7 (>0.5). In TensorFlow 2.x, dropout() uses dropout rate instead of keep_prob. Please ensure that this is intended.\n",
            "W0709 03:25:45.648065 140373054867328 nn_ops.py:4224] Large dropout rate: 0.7 (>0.5). In TensorFlow 2.x, dropout() uses dropout rate instead of keep_prob. Please ensure that this is intended.\n"
          ],
          "name": "stderr"
        }
      ]
    },
    {
      "cell_type": "code",
      "metadata": {
        "id": "Mcltjwb9WTAu",
        "colab_type": "code",
        "outputId": "d864f268-0f88-4197-8d28-d7f623e5d3ef",
        "colab": {
          "base_uri": "https://localhost:8080/",
          "height": 601
        }
      },
      "source": [
        "model.compile(loss='mean_squared_error', optimizer=tf.keras.optimizers.Adam(), metrics=['accuracy'])\n",
        "model.summary()\n",
        "shared_model.summary()"
      ],
      "execution_count": 75,
      "outputs": [
        {
          "output_type": "stream",
          "text": [
            "Model: \"model_3\"\n",
            "__________________________________________________________________________________________________\n",
            "Layer (type)                    Output Shape         Param #     Connected to                     \n",
            "==================================================================================================\n",
            "input_7 (InputLayer)            [(None, 237)]        0                                            \n",
            "__________________________________________________________________________________________________\n",
            "input_8 (InputLayer)            [(None, 237)]        0                                            \n",
            "__________________________________________________________________________________________________\n",
            "sequential_3 (Sequential)       (None, 50)           4799850     input_7[0][0]                    \n",
            "                                                                 input_8[0][0]                    \n",
            "__________________________________________________________________________________________________\n",
            "man_dist_3 (ManDist)            (None, 1)            0           sequential_3[1][0]               \n",
            "                                                                 sequential_3[2][0]               \n",
            "==================================================================================================\n",
            "Total params: 4,799,850\n",
            "Trainable params: 20,200\n",
            "Non-trainable params: 4,779,650\n",
            "__________________________________________________________________________________________________\n",
            "Model: \"sequential_3\"\n",
            "_________________________________________________________________\n",
            "Layer (type)                 Output Shape              Param #   \n",
            "=================================================================\n",
            "embedding_3 (Embedding)      multiple                  4779650   \n",
            "_________________________________________________________________\n",
            "lstm_3 (LSTM)                (None, 50)                20200     \n",
            "_________________________________________________________________\n",
            "dropout_2 (Dropout)          (None, 50)                0         \n",
            "=================================================================\n",
            "Total params: 4,799,850\n",
            "Trainable params: 20,200\n",
            "Non-trainable params: 4,779,650\n",
            "_________________________________________________________________\n"
          ],
          "name": "stdout"
        }
      ]
    },
    {
      "cell_type": "code",
      "metadata": {
        "id": "nzj-UXbDWTAw",
        "colab_type": "code",
        "outputId": "1b28af92-0ef5-4d06-f6c3-d358d0543bd5",
        "colab": {
          "base_uri": "https://localhost:8080/",
          "height": 731
        }
      },
      "source": [
        "# Start trainings\n",
        "training_start_time = time()\n",
        "malstm_trained = model.fit([padded_docs_train_left,padded_docs_train_right], y_train,\n",
        "                           batch_size=batch_size, epochs=n_epoch, verbose=2)\n",
        "training_end_time = time()\n",
        "print(\"Training time finished.\\n%d epochs in %12.2f\" % (n_epoch,training_end_time - training_start_time))"
      ],
      "execution_count": 76,
      "outputs": [
        {
          "output_type": "stream",
          "text": [
            "Epoch 1/20\n",
            "323429/323429 - 128s - loss: 0.2470 - acc: 0.6091\n",
            "Epoch 2/20\n",
            "323429/323429 - 126s - loss: 0.2369 - acc: 0.6226\n",
            "Epoch 3/20\n",
            "323429/323429 - 125s - loss: 0.2370 - acc: 0.6224\n",
            "Epoch 4/20\n",
            "323429/323429 - 126s - loss: 0.2373 - acc: 0.6226\n",
            "Epoch 5/20\n",
            "323429/323429 - 125s - loss: 0.2371 - acc: 0.6229\n",
            "Epoch 6/20\n",
            "323429/323429 - 125s - loss: 0.2370 - acc: 0.6228\n",
            "Epoch 7/20\n",
            "323429/323429 - 126s - loss: 0.2369 - acc: 0.6228\n",
            "Epoch 8/20\n",
            "323429/323429 - 126s - loss: 0.2370 - acc: 0.6225\n",
            "Epoch 9/20\n",
            "323429/323429 - 125s - loss: 0.2369 - acc: 0.6227\n",
            "Epoch 10/20\n",
            "323429/323429 - 125s - loss: 0.2371 - acc: 0.6225\n",
            "Epoch 11/20\n",
            "323429/323429 - 126s - loss: 0.2371 - acc: 0.6224\n",
            "Epoch 12/20\n",
            "323429/323429 - 123s - loss: 0.2371 - acc: 0.6223\n",
            "Epoch 13/20\n",
            "323429/323429 - 127s - loss: 0.2370 - acc: 0.6229\n",
            "Epoch 14/20\n",
            "323429/323429 - 125s - loss: 0.2369 - acc: 0.6229\n",
            "Epoch 15/20\n",
            "323429/323429 - 126s - loss: 0.2371 - acc: 0.6227\n",
            "Epoch 16/20\n",
            "323429/323429 - 125s - loss: 0.2369 - acc: 0.6226\n",
            "Epoch 17/20\n",
            "323429/323429 - 124s - loss: 0.2370 - acc: 0.6227\n",
            "Epoch 18/20\n",
            "323429/323429 - 126s - loss: 0.2369 - acc: 0.6224\n",
            "Epoch 19/20\n",
            "323429/323429 - 124s - loss: 0.2369 - acc: 0.6228\n",
            "Epoch 20/20\n",
            "323429/323429 - 127s - loss: 0.2370 - acc: 0.6224\n",
            "Training time finished.\n",
            "20 epochs in      2512.35\n"
          ],
          "name": "stdout"
        }
      ]
    },
    {
      "cell_type": "code",
      "metadata": {
        "id": "OoBvbpqyWTAx",
        "colab_type": "code",
        "outputId": "20205b0e-8afd-4a69-f560-d5181341690c",
        "colab": {
          "base_uri": "https://localhost:8080/",
          "height": 119
        }
      },
      "source": [
        "prediction = model.predict([padded_docs_test_left,padded_docs_test_right],verbose=1)\n",
        "print(prediction[0:5])"
      ],
      "execution_count": 78,
      "outputs": [
        {
          "output_type": "stream",
          "text": [
            "80858/80858 [==============================] - 883s 11ms/sample\n",
            "[[1.]\n",
            " [1.]\n",
            " [1.]\n",
            " [1.]\n",
            " [1.]]\n"
          ],
          "name": "stdout"
        }
      ]
    },
    {
      "cell_type": "code",
      "metadata": {
        "id": "EekYrEKRWTAz",
        "colab_type": "code",
        "colab": {}
      },
      "source": [
        "y_test"
      ],
      "execution_count": 0,
      "outputs": []
    },
    {
      "cell_type": "code",
      "metadata": {
        "id": "MBuwOQejWTA0",
        "colab_type": "code",
        "outputId": "64aca809-9bd8-4524-dd32-f9504f7c3943",
        "colab": {
          "base_uri": "https://localhost:8080/",
          "height": 51
        }
      },
      "source": [
        "loss, accuracy = model.evaluate([padded_docs_test_left,padded_docs_test_right], y_test, verbose=1)\n",
        "print('Accuracy: %f' % (accuracy*100))"
      ],
      "execution_count": 80,
      "outputs": [
        {
          "output_type": "stream",
          "text": [
            "80858/80858 [==============================] - 882s 11ms/sample - loss: 0.6320 - acc: 0.3680\n",
            "Accuracy: 36.802790\n"
          ],
          "name": "stdout"
        }
      ]
    },
    {
      "cell_type": "code",
      "metadata": {
        "id": "j3AShO14n0aB",
        "colab_type": "code",
        "outputId": "9935e152-eb4d-46c6-e25c-1c02e285700f",
        "colab": {
          "base_uri": "https://localhost:8080/",
          "height": 34
        }
      },
      "source": [
        "from collections import Counter \n",
        "Counter(y_train)"
      ],
      "execution_count": 81,
      "outputs": [
        {
          "output_type": "execute_result",
          "data": {
            "text/plain": [
              "Counter({0: 203921, 1: 119508})"
            ]
          },
          "metadata": {
            "tags": []
          },
          "execution_count": 81
        }
      ]
    },
    {
      "cell_type": "code",
      "metadata": {
        "id": "s6zYDwJdpgP0",
        "colab_type": "code",
        "colab": {}
      },
      "source": [
        "for i in prediction:\n",
        "  if(i==0):\n",
        "    print(0)"
      ],
      "execution_count": 0,
      "outputs": []
    },
    {
      "cell_type": "code",
      "metadata": {
        "id": "CqT6AKDOprt_",
        "colab_type": "code",
        "colab": {}
      },
      "source": [
        ""
      ],
      "execution_count": 0,
      "outputs": []
    }
  ]
}